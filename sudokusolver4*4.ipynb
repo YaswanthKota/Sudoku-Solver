{
  "nbformat": 4,
  "nbformat_minor": 0,
  "metadata": {
    "kernelspec": {
      "display_name": "Python 3",
      "language": "python",
      "name": "python3"
    },
    "language_info": {
      "codemirror_mode": {
        "name": "ipython",
        "version": 3
      },
      "file_extension": ".py",
      "mimetype": "text/x-python",
      "name": "python",
      "nbconvert_exporter": "python",
      "pygments_lexer": "ipython3",
      "version": "3.6.10"
    },
    "colab": {
      "name": "sudokusolver4*4.ipynb",
      "provenance": [],
      "include_colab_link": true
    }
  },
  "cells": [
    {
      "cell_type": "markdown",
      "metadata": {
        "id": "view-in-github",
        "colab_type": "text"
      },
      "source": [
        "<a href=\"https://colab.research.google.com/github/YaswanthKota/Sudoku-Solver/blob/master/sudokusolver4*4.ipynb\" target=\"_parent\"><img src=\"https://colab.research.google.com/assets/colab-badge.svg\" alt=\"Open In Colab\"/></a>"
      ]
    },
    {
      "cell_type": "markdown",
      "metadata": {
        "id": "6VctOmHaM-eA",
        "colab_type": "text"
      },
      "source": [
        "# Sudoku Solver"
      ]
    },
    {
      "cell_type": "code",
      "metadata": {
        "id": "hAS48NmDM-eG",
        "colab_type": "code",
        "colab": {}
      },
      "source": [
        "from copy import deepcopy\n",
        "\n",
        "Grid = [['.', '.', '2', '3'],\n",
        "        ['.', '.', '.', '.'],\n",
        "        ['.', '.', '.', '.'],\n",
        "        ['3', '4', '.', '.']]\n",
        "\n",
        "elements = ['1','2','3','4']"
      ],
      "execution_count": 65,
      "outputs": []
    },
    {
      "cell_type": "code",
      "metadata": {
        "id": "Vs6mSmcNM-ea",
        "colab_type": "code",
        "colab": {}
      },
      "source": [
        "def get_rows(new_Grid):\n",
        "    rows = []\n",
        "    for i in range(0,4):\n",
        "        row = {}\n",
        "        for y in range(0,4):\n",
        "            row[(i,y)] = new_Grid[i][y]\n",
        "        rows.append(row)\n",
        "    return rows\n",
        "\n",
        "def get_cols(new_Grid):\n",
        "    cols = []\n",
        "    for i in range(0,4):\n",
        "        col = {}\n",
        "        for x in range(0,4):\n",
        "            col[(x,i)] = new_Grid[x][i]\n",
        "        cols.append(col)\n",
        "    return cols"
      ],
      "execution_count": 66,
      "outputs": []
    },
    {
      "cell_type": "code",
      "metadata": {
        "id": "Y1rGfCZUM-ep",
        "colab_type": "code",
        "colab": {
          "base_uri": "https://localhost:8080/",
          "height": 170
        },
        "outputId": "109dcab9-1aff-44b8-a981-30f196401395"
      },
      "source": [
        "rows = get_rows(Grid)\n",
        "for r in rows:\n",
        "    print(r)\n",
        "print('-------------------------------------------------------')\n",
        "cols = get_cols(Grid)\n",
        "for c in cols:\n",
        "    print(c)"
      ],
      "execution_count": 67,
      "outputs": [
        {
          "output_type": "stream",
          "text": [
            "{(0, 0): '.', (0, 1): '.', (0, 2): '2', (0, 3): '3'}\n",
            "{(1, 0): '.', (1, 1): '.', (1, 2): '.', (1, 3): '.'}\n",
            "{(2, 0): '.', (2, 1): '.', (2, 2): '.', (2, 3): '.'}\n",
            "{(3, 0): '3', (3, 1): '4', (3, 2): '.', (3, 3): '.'}\n",
            "-------------------------------------------------------\n",
            "{(0, 0): '.', (1, 0): '.', (2, 0): '.', (3, 0): '3'}\n",
            "{(0, 1): '.', (1, 1): '.', (2, 1): '.', (3, 1): '4'}\n",
            "{(0, 2): '2', (1, 2): '.', (2, 2): '.', (3, 2): '.'}\n",
            "{(0, 3): '3', (1, 3): '.', (2, 3): '.', (3, 3): '.'}\n"
          ],
          "name": "stdout"
        }
      ]
    },
    {
      "cell_type": "code",
      "metadata": {
        "id": "3PPfLfikM-e4",
        "colab_type": "code",
        "colab": {}
      },
      "source": [
        "square_indx = [[(0,1),(0,1)],\n",
        "               [(0,1),(2,3)],\n",
        "               [(2,3),(0,1)],\n",
        "               [(2,3),(2,3)]]\n",
        "\n",
        "def get_squares(new_Grid):\n",
        "    squares = []\n",
        "    for i in range(0,4):\n",
        "        square = {}\n",
        "        for x in square_indx[i][0]:\n",
        "            for y in square_indx[i][1]:\n",
        "                square[(x,y)] = new_Grid[x][y]\n",
        "        squares.append(square)\n",
        "    return squares"
      ],
      "execution_count": 68,
      "outputs": []
    },
    {
      "cell_type": "code",
      "metadata": {
        "id": "LLK_0Q25M-fB",
        "colab_type": "code",
        "colab": {
          "base_uri": "https://localhost:8080/",
          "height": 85
        },
        "outputId": "8d879460-2b77-4f8e-ec66-1ce5c8857816"
      },
      "source": [
        "squares = get_squares(Grid)\n",
        "for sq in squares:\n",
        "    print(sq)"
      ],
      "execution_count": 69,
      "outputs": [
        {
          "output_type": "stream",
          "text": [
            "{(0, 0): '.', (0, 1): '.', (1, 0): '.', (1, 1): '.'}\n",
            "{(0, 2): '2', (0, 3): '3', (1, 2): '.', (1, 3): '.'}\n",
            "{(2, 0): '.', (2, 1): '.', (3, 0): '3', (3, 1): '4'}\n",
            "{(2, 2): '.', (2, 3): '.', (3, 2): '.', (3, 3): '.'}\n"
          ],
          "name": "stdout"
        }
      ]
    },
    {
      "cell_type": "code",
      "metadata": {
        "id": "g3suAaSvM-fJ",
        "colab_type": "code",
        "colab": {}
      },
      "source": [
        "def get_all_related_cells(new_Grid):\n",
        "    squares = get_squares(new_Grid)\n",
        "    rows = get_rows(new_Grid)\n",
        "    cols = get_cols(new_Grid)\n",
        "    all_vec = squares + rows + cols\n",
        "    return all_vec"
      ],
      "execution_count": 70,
      "outputs": []
    },
    {
      "cell_type": "code",
      "metadata": {
        "id": "XF0xQWxBM-fR",
        "colab_type": "code",
        "colab": {
          "base_uri": "https://localhost:8080/",
          "height": 221
        },
        "outputId": "bfacb3f4-c9ee-41e3-bf8f-1123d7c304dd"
      },
      "source": [
        "allvec=get_all_related_cells(Grid)\n",
        "for vector in allvec:\n",
        "    print(vector)"
      ],
      "execution_count": 71,
      "outputs": [
        {
          "output_type": "stream",
          "text": [
            "{(0, 0): '.', (0, 1): '.', (1, 0): '.', (1, 1): '.'}\n",
            "{(0, 2): '2', (0, 3): '3', (1, 2): '.', (1, 3): '.'}\n",
            "{(2, 0): '.', (2, 1): '.', (3, 0): '3', (3, 1): '4'}\n",
            "{(2, 2): '.', (2, 3): '.', (3, 2): '.', (3, 3): '.'}\n",
            "{(0, 0): '.', (0, 1): '.', (0, 2): '2', (0, 3): '3'}\n",
            "{(1, 0): '.', (1, 1): '.', (1, 2): '.', (1, 3): '.'}\n",
            "{(2, 0): '.', (2, 1): '.', (2, 2): '.', (2, 3): '.'}\n",
            "{(3, 0): '3', (3, 1): '4', (3, 2): '.', (3, 3): '.'}\n",
            "{(0, 0): '.', (1, 0): '.', (2, 0): '.', (3, 0): '3'}\n",
            "{(0, 1): '.', (1, 1): '.', (2, 1): '.', (3, 1): '4'}\n",
            "{(0, 2): '2', (1, 2): '.', (2, 2): '.', (3, 2): '.'}\n",
            "{(0, 3): '3', (1, 3): '.', (2, 3): '.', (3, 3): '.'}\n"
          ],
          "name": "stdout"
        }
      ]
    },
    {
      "cell_type": "code",
      "metadata": {
        "id": "qxgwc6nuM-fc",
        "colab_type": "code",
        "colab": {}
      },
      "source": [
        "def get_new_r_c(r, c):\n",
        "    if c==3:\n",
        "        if r==3:\n",
        "            new_r = r\n",
        "            new_c = c\n",
        "        else:\n",
        "            new_c = 0\n",
        "            new_r = r+1\n",
        "    else:\n",
        "        new_r = r\n",
        "        new_c = c+1\n",
        "    return new_r, new_c"
      ],
      "execution_count": 72,
      "outputs": []
    },
    {
      "cell_type": "code",
      "metadata": {
        "id": "iO1xMEaMM-fl",
        "colab_type": "code",
        "colab": {
          "base_uri": "https://localhost:8080/",
          "height": 85
        },
        "outputId": "45b0558e-6f99-423d-ef91-92b074013752"
      },
      "source": [
        "## This cell is only for clarification and it is not part of the original code\n",
        "print(get_new_r_c(0,0))\n",
        "print(get_new_r_c(0,3))\n",
        "print(get_new_r_c(1,3))\n",
        "print(get_new_r_c(2,3))"
      ],
      "execution_count": 73,
      "outputs": [
        {
          "output_type": "stream",
          "text": [
            "(0, 1)\n",
            "(1, 0)\n",
            "(2, 0)\n",
            "(3, 0)\n"
          ],
          "name": "stdout"
        }
      ]
    },
    {
      "cell_type": "code",
      "metadata": {
        "id": "uIzN_tLgM-fs",
        "colab_type": "code",
        "colab": {}
      },
      "source": [
        "def get_legal_for_cell(cell_r, cell_c, new_Grid):\n",
        "    if new_Grid[cell_r][cell_c]!='.':\n",
        "        return [None],[None],[None]\n",
        "\n",
        "    map = {}\n",
        "    all_vec = get_all_related_cells(new_Grid)\n",
        "    for a in all_vec:\n",
        "        if (cell_r, cell_c) in a.keys():\n",
        "            map.update(a)          # no duplicates\n",
        "\n",
        "    exist = []\n",
        "    for m in map:                  # get key from keys\n",
        "        if not map[m]=='.':\n",
        "            exist.append(map[m])\n",
        "\n",
        "    rest = list(set(elements) - set(exist))\n",
        "    return rest, exist, map"
      ],
      "execution_count": 74,
      "outputs": []
    },
    {
      "cell_type": "code",
      "metadata": {
        "id": "ndpZ1-hSM-f0",
        "colab_type": "code",
        "colab": {
          "base_uri": "https://localhost:8080/",
          "height": 68
        },
        "outputId": "8ca84348-48eb-459a-8bce-8bae1344c741"
      },
      "source": [
        "## This cell is only for clarification and it is not part of the original code\n",
        "r = 0\n",
        "c = 0\n",
        "legal_for_cell, exist, map = get_legal_for_cell(r, c, Grid)\n",
        "print(map)\n",
        "print(exist)\n",
        "print(legal_for_cell)"
      ],
      "execution_count": 75,
      "outputs": [
        {
          "output_type": "stream",
          "text": [
            "{(0, 0): '.', (0, 1): '.', (1, 0): '.', (1, 1): '.', (0, 2): '2', (0, 3): '3', (2, 0): '.', (3, 0): '3'}\n",
            "['2', '3', '3']\n",
            "['4', '1']\n"
          ],
          "name": "stdout"
        }
      ]
    },
    {
      "cell_type": "code",
      "metadata": {
        "id": "YyBccioKM-f9",
        "colab_type": "code",
        "colab": {}
      },
      "source": [
        "def is_complete(new_Grid):\n",
        "    grid_complete = True\n",
        "    for r in new_Grid:\n",
        "        grid_complete = grid_complete and not ('.' in r)\n",
        "    return grid_complete\n",
        "\n",
        "def print_grid(new_Grid):\n",
        "    for item in new_Grid:\n",
        "        print(item)\n",
        "    print()"
      ],
      "execution_count": 76,
      "outputs": []
    },
    {
      "cell_type": "code",
      "metadata": {
        "id": "c2T7Ts3nM-gH",
        "colab_type": "code",
        "colab": {
          "base_uri": "https://localhost:8080/",
          "height": 119
        },
        "outputId": "7d1ca1bd-d529-49b7-cb24-d6d2f04ef4f1"
      },
      "source": [
        "## This cell is only for clarification and it is not part of the original code\n",
        "print(is_complete(Grid))\n",
        "print_grid(Grid)"
      ],
      "execution_count": 77,
      "outputs": [
        {
          "output_type": "stream",
          "text": [
            "False\n",
            "['.', '.', '2', '3']\n",
            "['.', '.', '.', '.']\n",
            "['.', '.', '.', '.']\n",
            "['3', '4', '.', '.']\n",
            "\n"
          ],
          "name": "stdout"
        }
      ]
    },
    {
      "cell_type": "code",
      "metadata": {
        "id": "crOZLGVMM-gO",
        "colab_type": "code",
        "colab": {
          "base_uri": "https://localhost:8080/",
          "height": 68
        },
        "outputId": "88f7934f-6bb8-4011-f62b-24cad13243cb"
      },
      "source": [
        "## This cell is only for clarification and it is not part of the original code\n",
        "# Explaining deep copy\n",
        "from copy import deepcopy\n",
        "x = [1,2,3]\n",
        "y = x\n",
        "z = deepcopy(x)\n",
        "x[0] = 50\n",
        "x[2] = 150\n",
        "x.append(200)\n",
        "print('x:',x)\n",
        "print('y:',y)\n",
        "print('z:',z)"
      ],
      "execution_count": 78,
      "outputs": [
        {
          "output_type": "stream",
          "text": [
            "x: [50, 2, 150, 200]\n",
            "y: [50, 2, 150, 200]\n",
            "z: [1, 2, 3]\n"
          ],
          "name": "stdout"
        }
      ]
    },
    {
      "cell_type": "code",
      "metadata": {
        "id": "keIguWFcM-gW",
        "colab_type": "code",
        "colab": {
          "base_uri": "https://localhost:8080/",
          "height": 34
        },
        "outputId": "f951105a-c287-4e4e-bbaa-56859a6f4dbd"
      },
      "source": [
        "def fibonacci(n):\n",
        "    if n==1 or n==2:\n",
        "        return 1\n",
        "    return fibonacci(n-1)+fibonacci(n-2)\n",
        "\n",
        "for i in range(1,12):\n",
        "    print(fibonacci(i), end='   ')"
      ],
      "execution_count": 79,
      "outputs": [
        {
          "output_type": "stream",
          "text": [
            "1   1   2   3   5   8   13   21   34   55   89   "
          ],
          "name": "stdout"
        }
      ]
    },
    {
      "cell_type": "code",
      "metadata": {
        "id": "aVlLIZckM-gd",
        "colab_type": "code",
        "colab": {
          "base_uri": "https://localhost:8080/",
          "height": 221
        },
        "outputId": "afb27e13-e246-44d5-9429-b0c0d0dedce9"
      },
      "source": [
        "def solve_step_in_sudoko(last_Grid, r, c):\n",
        "    if is_complete(last_Grid):\n",
        "        print('Complete:')\n",
        "        print_grid(last_Grid)\n",
        "        return 0\n",
        "    \n",
        "    legal_for_cell,_ ,_ = get_legal_for_cell(r, c, last_Grid)\n",
        "    for item in legal_for_cell:\n",
        "        new_Grid = deepcopy(last_Grid)\n",
        "        if last_Grid[r][c]=='.':\n",
        "            new_Grid[r][c] = item\n",
        "        new_r, new_c = get_new_r_c(r, c)\n",
        "        solve_step_in_sudoko(new_Grid, new_r, new_c)\n",
        "print('Incomplete:')\n",
        "print_grid(Grid)\n",
        "solve_step_in_sudoko(Grid, 0, 0)"
      ],
      "execution_count": 80,
      "outputs": [
        {
          "output_type": "stream",
          "text": [
            "Incomplete:\n",
            "['.', '.', '2', '3']\n",
            "['.', '.', '.', '.']\n",
            "['.', '.', '.', '.']\n",
            "['3', '4', '.', '.']\n",
            "\n",
            "Complete:\n",
            "['4', '1', '2', '3']\n",
            "['2', '3', '4', '1']\n",
            "['1', '2', '3', '4']\n",
            "['3', '4', '1', '2']\n",
            "\n"
          ],
          "name": "stdout"
        }
      ]
    },
    {
      "cell_type": "code",
      "metadata": {
        "id": "7zuS2DiXM-gl",
        "colab_type": "code",
        "colab": {}
      },
      "source": [
        ""
      ],
      "execution_count": 80,
      "outputs": []
    }
  ]
}